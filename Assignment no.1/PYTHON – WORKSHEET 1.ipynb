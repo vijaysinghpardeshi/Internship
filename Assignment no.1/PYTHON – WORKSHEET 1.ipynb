{
 "cells": [
  {
   "cell_type": "code",
   "execution_count": 1,
   "id": "49623b14",
   "metadata": {},
   "outputs": [],
   "source": [
    "a=2//3"
   ]
  },
  {
   "cell_type": "code",
   "execution_count": 2,
   "id": "10098742",
   "metadata": {},
   "outputs": [
    {
     "name": "stdout",
     "output_type": "stream",
     "text": [
      "0\n"
     ]
    }
   ],
   "source": [
    "print(a)"
   ]
  },
  {
   "cell_type": "code",
   "execution_count": 3,
   "id": "666dca17",
   "metadata": {},
   "outputs": [],
   "source": [
    "b=6<<2"
   ]
  },
  {
   "cell_type": "code",
   "execution_count": 4,
   "id": "6ee292aa",
   "metadata": {},
   "outputs": [
    {
     "name": "stdout",
     "output_type": "stream",
     "text": [
      "24\n"
     ]
    }
   ],
   "source": [
    "print(b)"
   ]
  },
  {
   "cell_type": "code",
   "execution_count": 5,
   "id": "92c6f4ee",
   "metadata": {},
   "outputs": [],
   "source": [
    "c=6&2"
   ]
  },
  {
   "cell_type": "code",
   "execution_count": 6,
   "id": "cf0ce4bf",
   "metadata": {},
   "outputs": [
    {
     "name": "stdout",
     "output_type": "stream",
     "text": [
      "2\n"
     ]
    }
   ],
   "source": [
    "print(c)"
   ]
  },
  {
   "cell_type": "code",
   "execution_count": 7,
   "id": "acd3d08c",
   "metadata": {},
   "outputs": [],
   "source": [
    "s=6|2 "
   ]
  },
  {
   "cell_type": "code",
   "execution_count": 8,
   "id": "5d28de15",
   "metadata": {},
   "outputs": [
    {
     "name": "stdout",
     "output_type": "stream",
     "text": [
      "6\n"
     ]
    }
   ],
   "source": [
    "print(s)"
   ]
  },
  {
   "cell_type": "code",
   "execution_count": null,
   "id": "12761c42",
   "metadata": {},
   "outputs": [],
   "source": [
    "# 11. Write a python program to find the factorial of a number."
   ]
  },
  {
   "cell_type": "code",
   "execution_count": 9,
   "id": "1d34b194",
   "metadata": {},
   "outputs": [
    {
     "name": "stdout",
     "output_type": "stream",
     "text": [
      "The factorial of 7 is 5040\n"
     ]
    }
   ],
   "source": [
    "# Python program to find the factorial of a number provided by the user.\n",
    "\n",
    "# change the value for a different result\n",
    "num = 7\n",
    "\n",
    "# To take input from the user\n",
    "#num = int(input(\"Enter a number: \"))\n",
    "\n",
    "factorial = 1\n",
    "\n",
    "# check if the number is negative, positive or zero\n",
    "if num < 0:\n",
    "   print(\"Sorry, factorial does not exist for negative numbers\")\n",
    "elif num == 0:\n",
    "   print(\"The factorial of 0 is 1\")\n",
    "else:\n",
    "   for i in range(1,num + 1):\n",
    "       factorial = factorial*i\n",
    "   print(\"The factorial of\",num,\"is\",factorial)"
   ]
  },
  {
   "cell_type": "code",
   "execution_count": 10,
   "id": "2cfcaf24",
   "metadata": {},
   "outputs": [],
   "source": [
    "# 12. Write a python program to find whether a number is prime or composite."
   ]
  },
  {
   "cell_type": "code",
   "execution_count": 11,
   "id": "5ced8d59",
   "metadata": {},
   "outputs": [
    {
     "name": "stdout",
     "output_type": "stream",
     "text": [
      "Enter any number:14\n",
      "14 is not prime but composite number\n"
     ]
    }
   ],
   "source": [
    "#Input a number and check if the number is prime or composite number\n",
    "n= int(input(\"Enter any number:\"))\n",
    "if(n ==0 or n == 1):\n",
    "    printf(n,\"Number is neither prime nor composite\")\n",
    "elif n>1 :\n",
    "    for i in range(2,n):\n",
    "        if(n%i == 0):\n",
    "            print(n,\"is not prime but composite number\")\n",
    "            break\n",
    "    else:\n",
    "        print(n,\"number is prime but not composite number\")\n",
    "else :\n",
    "    print(\"Please enter positive number only \")"
   ]
  },
  {
   "cell_type": "code",
   "execution_count": 12,
   "id": "bfeaef85",
   "metadata": {},
   "outputs": [],
   "source": [
    "# 13. Write a python program to check whether a given string is palindrome or not."
   ]
  },
  {
   "cell_type": "code",
   "execution_count": 14,
   "id": "e1c40573",
   "metadata": {},
   "outputs": [
    {
     "name": "stdout",
     "output_type": "stream",
     "text": [
      "Yes\n"
     ]
    }
   ],
   "source": [
    "# function to check string is\n",
    "# palindrome or not\n",
    "def isPalindrome(str):\n",
    " \n",
    "    # Run loop from 0 to len/2\n",
    "    for i in range(0, int(len(str)/2)):\n",
    "        if str[i] != str[len(str)-i-1]:\n",
    "            return False\n",
    "    return True\n",
    " \n",
    "# main function\n",
    "s = \"radar\"\n",
    "ans = isPalindrome(s)\n",
    " \n",
    "if (ans):\n",
    "    print(\"Yes\")\n",
    "else:\n",
    "    print(\"No\")"
   ]
  },
  {
   "cell_type": "code",
   "execution_count": 15,
   "id": "d57edc9c",
   "metadata": {},
   "outputs": [],
   "source": [
    "# 14. Write a Python program to get the third side of right-angled triangle from two given sides."
   ]
  },
  {
   "cell_type": "code",
   "execution_count": 16,
   "id": "52518cf1",
   "metadata": {},
   "outputs": [],
   "source": [
    "# python code "
   ]
  },
  {
   "cell_type": "code",
   "execution_count": 17,
   "id": "47837d52",
   "metadata": {},
   "outputs": [
    {
     "name": "stdout",
     "output_type": "stream",
     "text": [
      "Hypotenuse = 5.0\n",
      "Adjacent = 4.0\n",
      "Opposite = 3.0\n",
      "You know the answer!\n"
     ]
    }
   ],
   "source": [
    "def pythagoras(opposite_side,adjacent_side,hypotenuse):\n",
    "        if opposite_side == str(\"x\"):\n",
    "            return (\"Opposite = \" + str(((hypotenuse**2) - (adjacent_side**2))**0.5))\n",
    "        elif adjacent_side == str(\"x\"):\n",
    "            return (\"Adjacent = \" + str(((hypotenuse**2) - (opposite_side**2))**0.5))\n",
    "        elif hypotenuse == str(\"x\"):\n",
    "            return (\"Hypotenuse = \" + str(((opposite_side**2) + (adjacent_side**2))**0.5))\n",
    "        else:\n",
    "            return \"You know the answer!\"\n",
    "    \n",
    "print(pythagoras(3,4,'x'))\n",
    "print(pythagoras(3,'x',5))\n",
    "print(pythagoras('x',4,5))\n",
    "print(pythagoras(3,4,5))"
   ]
  },
  {
   "cell_type": "code",
   "execution_count": 18,
   "id": "e65f8954",
   "metadata": {},
   "outputs": [],
   "source": [
    "# 15. Write a python program to print the frequency of each of the characters present in a given string."
   ]
  },
  {
   "cell_type": "code",
   "execution_count": 35,
   "id": "df8c75b7",
   "metadata": {},
   "outputs": [
    {
     "name": "stdout",
     "output_type": "stream",
     "text": [
      "Enter a string: vijay\n",
      "v ,  1\n",
      "i ,  1\n",
      "j ,  1\n",
      "a ,  1\n",
      "y ,  1\n"
     ]
    }
   ],
   "source": [
    "inputString = input(\"Enter a string: \").casefold()\n",
    "\n",
    "#casefold() is to ensure that uppercase and lower case charachter is treated same.\n",
    "#If you don't want, you can remove casefold()\n",
    "\n",
    "tempStr = ''\n",
    "for char in inputString:\n",
    "    if char not in tempStr:\n",
    "        print(char, ', ', inputString.count(char))\n",
    "        tempStr = tempStr+char"
   ]
  },
  {
   "cell_type": "code",
   "execution_count": null,
   "id": "d4c6a269",
   "metadata": {},
   "outputs": [],
   "source": []
  },
  {
   "cell_type": "code",
   "execution_count": null,
   "id": "d861e249",
   "metadata": {},
   "outputs": [],
   "source": []
  }
 ],
 "metadata": {
  "kernelspec": {
   "display_name": "Python 3 (ipykernel)",
   "language": "python",
   "name": "python3"
  },
  "language_info": {
   "codemirror_mode": {
    "name": "ipython",
    "version": 3
   },
   "file_extension": ".py",
   "mimetype": "text/x-python",
   "name": "python",
   "nbconvert_exporter": "python",
   "pygments_lexer": "ipython3",
   "version": "3.9.12"
  }
 },
 "nbformat": 4,
 "nbformat_minor": 5
}
